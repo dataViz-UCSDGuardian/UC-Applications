{
 "cells": [
  {
   "cell_type": "code",
   "execution_count": 2,
   "metadata": {
    "collapsed": true
   },
   "outputs": [],
   "source": [
    "import pandas as pd\n",
    "import bokeh.charts as bk\n",
    "import bokeh.models as mdl\n",
    "import bokeh.plotting as plot"
   ]
  },
  {
   "cell_type": "code",
   "execution_count": 31,
   "metadata": {
    "collapsed": false,
    "scrolled": false
   },
   "outputs": [
    {
     "data": {
      "text/html": [
       "<div>\n",
       "<table border=\"1\" class=\"dataframe\">\n",
       "  <thead>\n",
       "    <tr style=\"text-align: right;\">\n",
       "      <th></th>\n",
       "      <th>African American</th>\n",
       "      <th>American Indian</th>\n",
       "      <th>Asian American</th>\n",
       "      <th>Chicano/Latino</th>\n",
       "      <th>Missing</th>\n",
       "      <th>Pacific Islander</th>\n",
       "      <th>White</th>\n",
       "    </tr>\n",
       "  </thead>\n",
       "  <tbody>\n",
       "    <tr>\n",
       "      <th>0</th>\n",
       "      <td>0.0</td>\n",
       "      <td>0.0</td>\n",
       "      <td>0.0</td>\n",
       "      <td>0.0</td>\n",
       "      <td>0.0</td>\n",
       "      <td>0.0</td>\n",
       "      <td>0.0</td>\n",
       "    </tr>\n",
       "    <tr>\n",
       "      <th>1</th>\n",
       "      <td>182.0</td>\n",
       "      <td>-36.0</td>\n",
       "      <td>-199.0</td>\n",
       "      <td>1422.0</td>\n",
       "      <td>-66.0</td>\n",
       "      <td>9.0</td>\n",
       "      <td>272.0</td>\n",
       "    </tr>\n",
       "    <tr>\n",
       "      <th>2</th>\n",
       "      <td>522.0</td>\n",
       "      <td>-30.0</td>\n",
       "      <td>1047.0</td>\n",
       "      <td>3101.0</td>\n",
       "      <td>-48.0</td>\n",
       "      <td>46.0</td>\n",
       "      <td>791.0</td>\n",
       "    </tr>\n",
       "  </tbody>\n",
       "</table>\n",
       "</div>"
      ],
      "text/plain": [
       "   African American  American Indian  Asian American  Chicano/Latino  Missing  \\\n",
       "0               0.0              0.0             0.0             0.0      0.0   \n",
       "1             182.0            -36.0          -199.0          1422.0    -66.0   \n",
       "2             522.0            -30.0          1047.0          3101.0    -48.0   \n",
       "\n",
       "   Pacific Islander  White  \n",
       "0               0.0    0.0  \n",
       "1               9.0  272.0  \n",
       "2              46.0  791.0  "
      ]
     },
     "execution_count": 31,
     "metadata": {},
     "output_type": "execute_result"
    }
   ],
   "source": [
    "demo = pd.read_csv(\"DemoApp.csv\")\n",
    "demo = demo[demo[\"Residency\"] != \"Total\"]\n",
    "demoSD = demo[demo[\"Campus\"] == \"San Diego\"]\n",
    "\n",
    "demoSD = demoSD.reset_index()\n",
    "del demoSD[\"index\"]\n",
    "del demoSD[\"Campus\"]\n",
    "demoSD = demoSD.set_index(\"Residency\")\n",
    "\n",
    "demoB = demoSD[\"2015\"]\n",
    "\n",
    "demoSD = demoSD.T\n",
    "demoB = demoB.T\n",
    "\n",
    "demoF = pd.DataFrame()\n",
    "years = []\n",
    "\n",
    "for (x,row) in demoSD.iterrows():\n",
    "    years.append(x)\n",
    "    r = row - demoB\n",
    "    demoF = demoF.append(r, ignore_index=True)\n",
    "#demoF[\"index\"] = years\n",
    "#demoF = demoF.set_index(\"index\")\n",
    "demoF\n"
   ]
  },
  {
   "cell_type": "code",
   "execution_count": 36,
   "metadata": {
    "collapsed": false
   },
   "outputs": [],
   "source": [
    "hover = mdl.HoverTool(tooltips=[(\"Change since 2015:\", \"$y\")])\n",
    "TOOLS = [hover,'pan,save,reset']\n",
    "#TOOLS = 'pan,wheel_zoom,save,crosshair,reset'\n",
    "\n",
    "fig = bk.Line(demoF, plot_width=600, plot_height=600, tools=TOOLS,\n",
    "              title=\"Change in UCSD Freshman Application Demographics\",  \n",
    "              xlabel = \"Number of years since 2015\", \n",
    "              ylabel = \"Change in number of Applicants\")\n",
    "#plot.outputfile(\"allcampuspastyears.html\")\n",
    "plot.show(fig)"
   ]
  },
  {
   "cell_type": "code",
   "execution_count": null,
   "metadata": {
    "collapsed": true
   },
   "outputs": [],
   "source": []
  }
 ],
 "metadata": {
  "kernelspec": {
   "display_name": "Python [Root]",
   "language": "python",
   "name": "Python [Root]"
  },
  "language_info": {
   "codemirror_mode": {
    "name": "ipython",
    "version": 3
   },
   "file_extension": ".py",
   "mimetype": "text/x-python",
   "name": "python",
   "nbconvert_exporter": "python",
   "pygments_lexer": "ipython3",
   "version": "3.5.2"
  }
 },
 "nbformat": 4,
 "nbformat_minor": 0
}
