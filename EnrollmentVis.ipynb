{
 "cells": [
  {
   "cell_type": "code",
   "execution_count": 101,
   "metadata": {
    "collapsed": false
   },
   "outputs": [],
   "source": [
    "\n",
    "import pandas as pd\n",
    "import matplotlib.pyplot as mpl\n",
    "import bokeh.charts as bk\n",
    "import bokeh.plotting as plot\n",
    "import bokeh.models as mdl\n",
    "\n",
    "import os "
   ]
  },
  {
   "cell_type": "code",
   "execution_count": 64,
   "metadata": {
    "collapsed": false
   },
   "outputs": [],
   "source": [
    "#test berkeley\n",
    "dfB = pd.read_csv(\"NewEnroll_Berkeley.csv\")\n",
    "\n",
    "dfB = dfB.set_index(\"\\ufeffAcademic Yr\")\n",
    "dfB = dfB.sort_index()\n",
    "dfB1 = dfB[dfB[\"UG Entry Level\"] == \"Freshman\"]\n",
    "\n",
    "del dfB1[\"Enrollment Status\"]\n",
    "del dfB1[\"UG Entry Level\"]\n"
   ]
  },
  {
   "cell_type": "code",
   "execution_count": 83,
   "metadata": {
    "collapsed": false
   },
   "outputs": [
    {
     "data": {
      "text/html": [
       "<div>\n",
       "<table border=\"1\" class=\"dataframe\">\n",
       "  <thead>\n",
       "    <tr style=\"text-align: right;\">\n",
       "      <th></th>\n",
       "      <th>Berkeley</th>\n",
       "      <th>Davis</th>\n",
       "      <th>Irvine</th>\n",
       "      <th>LosAngeles</th>\n",
       "      <th>Merced</th>\n",
       "      <th>Riverside</th>\n",
       "      <th>SanDiego</th>\n",
       "      <th>SantaBarbara</th>\n",
       "      <th>SantaCruz</th>\n",
       "    </tr>\n",
       "    <tr>\n",
       "      <th>﻿Academic Yr</th>\n",
       "      <th></th>\n",
       "      <th></th>\n",
       "      <th></th>\n",
       "      <th></th>\n",
       "      <th></th>\n",
       "      <th></th>\n",
       "      <th></th>\n",
       "      <th></th>\n",
       "      <th></th>\n",
       "    </tr>\n",
       "  </thead>\n",
       "  <tbody>\n",
       "    <tr>\n",
       "      <th>2012</th>\n",
       "      <td>4162</td>\n",
       "      <td>5208</td>\n",
       "      <td>5077</td>\n",
       "      <td>5619</td>\n",
       "      <td>1492</td>\n",
       "      <td>4034</td>\n",
       "      <td>4576</td>\n",
       "      <td>4741</td>\n",
       "      <td>3827</td>\n",
       "    </tr>\n",
       "    <tr>\n",
       "      <th>2013</th>\n",
       "      <td>4706</td>\n",
       "      <td>5113</td>\n",
       "      <td>5460</td>\n",
       "      <td>5696</td>\n",
       "      <td>1654</td>\n",
       "      <td>4203</td>\n",
       "      <td>5228</td>\n",
       "      <td>4624</td>\n",
       "      <td>3302</td>\n",
       "    </tr>\n",
       "    <tr>\n",
       "      <th>2014</th>\n",
       "      <td>5466</td>\n",
       "      <td>5377</td>\n",
       "      <td>5435</td>\n",
       "      <td>5764</td>\n",
       "      <td>1551</td>\n",
       "      <td>4281</td>\n",
       "      <td>4922</td>\n",
       "      <td>4738</td>\n",
       "      <td>4035</td>\n",
       "    </tr>\n",
       "    <tr>\n",
       "      <th>2015</th>\n",
       "      <td>5550</td>\n",
       "      <td>5369</td>\n",
       "      <td>5756</td>\n",
       "      <td>5679</td>\n",
       "      <td>1788</td>\n",
       "      <td>4044</td>\n",
       "      <td>5292</td>\n",
       "      <td>4473</td>\n",
       "      <td>3620</td>\n",
       "    </tr>\n",
       "    <tr>\n",
       "      <th>2016</th>\n",
       "      <td>6182</td>\n",
       "      <td>5762</td>\n",
       "      <td>6551</td>\n",
       "      <td>6545</td>\n",
       "      <td>2048</td>\n",
       "      <td>5358</td>\n",
       "      <td>5748</td>\n",
       "      <td>4996</td>\n",
       "      <td>4221</td>\n",
       "    </tr>\n",
       "  </tbody>\n",
       "</table>\n",
       "</div>"
      ],
      "text/plain": [
       "              Berkeley  Davis  Irvine  LosAngeles  Merced  Riverside  \\\n",
       "﻿Academic Yr                                                           \n",
       "2012              4162   5208    5077        5619    1492       4034   \n",
       "2013              4706   5113    5460        5696    1654       4203   \n",
       "2014              5466   5377    5435        5764    1551       4281   \n",
       "2015              5550   5369    5756        5679    1788       4044   \n",
       "2016              6182   5762    6551        6545    2048       5358   \n",
       "\n",
       "              SanDiego  SantaBarbara  SantaCruz  \n",
       "﻿Academic Yr                                     \n",
       "2012              4576          4741       3827  \n",
       "2013              5228          4624       3302  \n",
       "2014              4922          4738       4035  \n",
       "2015              5292          4473       3620  \n",
       "2016              5748          4996       4221  "
      ]
     },
     "execution_count": 83,
     "metadata": {},
     "output_type": "execute_result"
    }
   ],
   "source": [
    "#read all files in directory\n",
    "df = pd.DataFrame()\n",
    "names = []\n",
    "\n",
    "for file in os.listdir():\n",
    "    if file.endswith(\".csv\") == False:\n",
    "        continue;\n",
    "    df1 = pd.read_csv(file)\n",
    "    \n",
    "    df1 = df1.set_index(\"\\ufeffAcademic Yr\")\n",
    "    df1 = df1.sort_index()\n",
    "    df1 = df1[df1[\"UG Entry Level\"] == \"Freshman\"]\n",
    "\n",
    "    del df1[\"Enrollment Status\"]\n",
    "    del df1[\"UG Entry Level\"]\n",
    "    \n",
    "    names.append(file.split(\"_\")[1].split(\".\")[0])\n",
    "\n",
    "    if len(df) == 0:\n",
    "        df = df1\n",
    "    else:\n",
    "        df = pd.concat([df,df1], axis =1)\n",
    "df.columns = names\n",
    "df"
   ]
  },
  {
   "cell_type": "code",
   "execution_count": 126,
   "metadata": {
    "collapsed": false
   },
   "outputs": [
    {
     "data": {
      "text/plain": [
       "{'Academic Yr': [2012, 2013, 2014, 2015, 2016],\n",
       " 'Berkeley': [4162, 4706, 5466, 5550, 6182],\n",
       " 'Davis': [5208, 5113, 5377, 5369, 5762],\n",
       " 'Irvine': [5077, 5460, 5435, 5756, 6551],\n",
       " 'LosAngeles': [5619, 5696, 5764, 5679, 6545],\n",
       " 'Merced': [1492, 1654, 1551, 1788, 2048],\n",
       " 'Riverside': [4034, 4203, 4281, 4044, 5358],\n",
       " 'SanDiego': [4576, 5228, 4922, 5292, 5748],\n",
       " 'SantaBarbara': [4741, 4624, 4738, 4473, 4996],\n",
       " 'SantaCruz': [3827, 3302, 4035, 3620, 4221]}"
      ]
     },
     "execution_count": 126,
     "metadata": {},
     "output_type": "execute_result"
    }
   ],
   "source": [
    "#read all files in directory\n",
    "df = pd.DataFrame()\n",
    "names = []\n",
    "\n",
    "for file in os.listdir():\n",
    "    if file.endswith(\".csv\") == False:\n",
    "        continue;\n",
    "    df1 = pd.read_csv(file)\n",
    "    \n",
    "    df1 = df1.set_index(\"\\ufeffAcademic Yr\")\n",
    "    df1 = df1.sort_index()\n",
    "    df1 = df1[df1[\"UG Entry Level\"] == \"Freshman\"]\n",
    "\n",
    "    del df1[\"Enrollment Status\"]\n",
    "    del df1[\"UG Entry Level\"]\n",
    "    \n",
    "    names.append(file.split(\"_\")[1].split(\".\")[0])\n",
    "\n",
    "    if len(df) == 0:\n",
    "        df = df1\n",
    "    else:\n",
    "        df = pd.concat([df,df1], axis =1)\n",
    "df.columns = names\n",
    "df = df.rename_axis(\"Academic Yr\")\n",
    "cds = plot.ColumnDataSource().from_df(df)\n",
    "cds"
   ]
  },
  {
   "cell_type": "code",
   "execution_count": 128,
   "metadata": {
    "collapsed": false
   },
   "outputs": [],
   "source": [
    "hover = mdl.HoverTool(tooltips=[(\"Year\", \"$(Academic Yr)\"),(\"School\", \"\"),(\"desc\", \"@(df.columns)\"),])\n",
    "TOOLS = [hover,'pan,wheel_zoom,save,crosshair,reset']\n",
    "\n",
    "fig = bk.Line(df, plot_width=600, plot_height=600, title=\"UC Freshman Enrollment since 2012\", tools=TOOLS)\n",
    "fig.xlabel = \"Year\"\n",
    "fig.ylabel = \"Applicants\"\n",
    "#plot.outputfile(\"allcampuspastyears.html\")\n",
    "plot.show(fig)"
   ]
  },
  {
   "cell_type": "code",
   "execution_count": null,
   "metadata": {
    "collapsed": true
   },
   "outputs": [],
   "source": []
  }
 ],
 "metadata": {
  "anaconda-cloud": {},
  "kernelspec": {
   "display_name": "Python [Root]",
   "language": "python",
   "name": "Python [Root]"
  },
  "language_info": {
   "codemirror_mode": {
    "name": "ipython",
    "version": 3
   },
   "file_extension": ".py",
   "mimetype": "text/x-python",
   "name": "python",
   "nbconvert_exporter": "python",
   "pygments_lexer": "ipython3",
   "version": "3.5.2"
  }
 },
 "nbformat": 4,
 "nbformat_minor": 0
}
