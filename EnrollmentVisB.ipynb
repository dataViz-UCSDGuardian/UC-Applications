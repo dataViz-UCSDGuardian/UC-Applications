{
 "cells": [
  {
   "cell_type": "code",
   "execution_count": 47,
   "metadata": {
    "collapsed": false
   },
   "outputs": [],
   "source": [
    "import pandas as pd\n",
    "import bokeh.charts as bk\n",
    "import bokeh.models as mdl\n",
    "import bokeh.plotting as plot\n",
    "from bokeh.io import output_file as outfile\n",
    "from bokeh.palettes import PuOr9 as color"
   ]
  },
  {
   "cell_type": "code",
   "execution_count": 44,
   "metadata": {
    "collapsed": false,
    "scrolled": false
   },
   "outputs": [
    {
     "data": {
      "text/html": [
       "<div>\n",
       "<table border=\"1\" class=\"dataframe\">\n",
       "  <thead>\n",
       "    <tr style=\"text-align: right;\">\n",
       "      <th>Campus</th>\n",
       "      <th>Berkeley</th>\n",
       "      <th>Davis</th>\n",
       "      <th>Irvine</th>\n",
       "      <th>Los Angeles</th>\n",
       "      <th>Merced</th>\n",
       "      <th>Riverside</th>\n",
       "      <th>San Diego</th>\n",
       "      <th>Santa Barbara</th>\n",
       "      <th>Santa Cruz</th>\n",
       "    </tr>\n",
       "  </thead>\n",
       "  <tbody>\n",
       "    <tr>\n",
       "      <th>2015</th>\n",
       "      <td>78863</td>\n",
       "      <td>64582</td>\n",
       "      <td>71770</td>\n",
       "      <td>92681</td>\n",
       "      <td>17611</td>\n",
       "      <td>38504</td>\n",
       "      <td>78084</td>\n",
       "      <td>70532</td>\n",
       "      <td>45534</td>\n",
       "    </tr>\n",
       "    <tr>\n",
       "      <th>2016</th>\n",
       "      <td>82534</td>\n",
       "      <td>68510</td>\n",
       "      <td>77781</td>\n",
       "      <td>97060</td>\n",
       "      <td>19679</td>\n",
       "      <td>41557</td>\n",
       "      <td>84215</td>\n",
       "      <td>77078</td>\n",
       "      <td>49132</td>\n",
       "    </tr>\n",
       "    <tr>\n",
       "      <th>2017</th>\n",
       "      <td>85012</td>\n",
       "      <td>70904</td>\n",
       "      <td>85053</td>\n",
       "      <td>102177</td>\n",
       "      <td>21509</td>\n",
       "      <td>43433</td>\n",
       "      <td>88451</td>\n",
       "      <td>81782</td>\n",
       "      <td>52502</td>\n",
       "    </tr>\n",
       "  </tbody>\n",
       "</table>\n",
       "</div>"
      ],
      "text/plain": [
       "Campus  Berkeley  Davis  Irvine  Los Angeles  Merced  Riverside  San Diego  \\\n",
       "2015       78863  64582   71770        92681   17611      38504      78084   \n",
       "2016       82534  68510   77781        97060   19679      41557      84215   \n",
       "2017       85012  70904   85053       102177   21509      43433      88451   \n",
       "\n",
       "Campus  Santa Barbara  Santa Cruz  \n",
       "2015            70532       45534  \n",
       "2016            77078       49132  \n",
       "2017            81782       52502  "
      ]
     },
     "execution_count": 44,
     "metadata": {},
     "output_type": "execute_result"
    }
   ],
   "source": [
    "demo = pd.read_csv(\"OverallApp.csv\")\n",
    "\n",
    "demo = demo[demo[\"Residency\"] == \"Total\"]\n",
    "del demo[\"Residency\"] \n",
    "demo = demo.set_index(\"Campus\")\n",
    "\n",
    "demo = demo.T\n",
    "del demo[\"Universitywide\"]\n",
    "\n",
    "demo"
   ]
  },
  {
   "cell_type": "code",
   "execution_count": 49,
   "metadata": {
    "collapsed": false
   },
   "outputs": [
    {
     "data": {
      "text/html": [
       "<div>\n",
       "<table border=\"1\" class=\"dataframe\">\n",
       "  <thead>\n",
       "    <tr style=\"text-align: right;\">\n",
       "      <th></th>\n",
       "      <th>Berkeley</th>\n",
       "      <th>Davis</th>\n",
       "      <th>Irvine</th>\n",
       "      <th>Los Angeles</th>\n",
       "      <th>Merced</th>\n",
       "      <th>Riverside</th>\n",
       "      <th>San Diego</th>\n",
       "      <th>Santa Barbara</th>\n",
       "      <th>Santa Cruz</th>\n",
       "    </tr>\n",
       "  </thead>\n",
       "  <tbody>\n",
       "    <tr>\n",
       "      <th>0</th>\n",
       "      <td>0.0</td>\n",
       "      <td>0.0</td>\n",
       "      <td>0.0</td>\n",
       "      <td>0.0</td>\n",
       "      <td>0.0</td>\n",
       "      <td>0.0</td>\n",
       "      <td>0.0</td>\n",
       "      <td>0.0</td>\n",
       "      <td>0.0</td>\n",
       "    </tr>\n",
       "    <tr>\n",
       "      <th>1</th>\n",
       "      <td>3671.0</td>\n",
       "      <td>3928.0</td>\n",
       "      <td>6011.0</td>\n",
       "      <td>4379.0</td>\n",
       "      <td>2068.0</td>\n",
       "      <td>3053.0</td>\n",
       "      <td>6131.0</td>\n",
       "      <td>6546.0</td>\n",
       "      <td>3598.0</td>\n",
       "    </tr>\n",
       "    <tr>\n",
       "      <th>2</th>\n",
       "      <td>6149.0</td>\n",
       "      <td>6322.0</td>\n",
       "      <td>13283.0</td>\n",
       "      <td>9496.0</td>\n",
       "      <td>3898.0</td>\n",
       "      <td>4929.0</td>\n",
       "      <td>10367.0</td>\n",
       "      <td>11250.0</td>\n",
       "      <td>6968.0</td>\n",
       "    </tr>\n",
       "  </tbody>\n",
       "</table>\n",
       "</div>"
      ],
      "text/plain": [
       "   Berkeley   Davis   Irvine  Los Angeles  Merced  Riverside  San Diego  \\\n",
       "0       0.0     0.0      0.0          0.0     0.0        0.0        0.0   \n",
       "1    3671.0  3928.0   6011.0       4379.0  2068.0     3053.0     6131.0   \n",
       "2    6149.0  6322.0  13283.0       9496.0  3898.0     4929.0    10367.0   \n",
       "\n",
       "   Santa Barbara  Santa Cruz  \n",
       "0            0.0         0.0  \n",
       "1         6546.0      3598.0  \n",
       "2        11250.0      6968.0  "
      ]
     },
     "execution_count": 49,
     "metadata": {},
     "output_type": "execute_result"
    }
   ],
   "source": [
    "demo = demo.T\n",
    "demoB = demo[\"2015\"]\n",
    "\n",
    "demo = demo.T\n",
    "demoB = demoB.T\n",
    "\n",
    "demoF = pd.DataFrame()\n",
    "years = []\n",
    "\n",
    "for (x,row) in demo.iterrows():\n",
    "    years.append(x)\n",
    "    r = row - demoB\n",
    "    demoF = demoF.append(r, ignore_index=True)\n",
    "demo = demoF\n",
    "\n",
    "demo"
   ]
  },
  {
   "cell_type": "code",
   "execution_count": 50,
   "metadata": {
    "collapsed": false,
    "scrolled": false
   },
   "outputs": [],
   "source": [
    "hover = mdl.HoverTool(tooltips=[(\"Number of applicants:\", \"$y\")])\n",
    "TOOLS = [hover,'pan,save,reset']\n",
    "#TOOLS = 'pan,wheel_zoom,save,crosshair,reset'\n",
    "\n",
    "fig = bk.Line(demo, plot_width=600, plot_height=600, tools=TOOLS,\n",
    "              title=\"Change in UC System Freshman Applications\", \n",
    "              xlabel = \"Number of years since 2015\", \n",
    "              ylabel = \"Change in number of applicants\")\n",
    "#, palette = color)\n",
    "outfile(\"campusappl.html\")\n",
    "plot.show(fig)"
   ]
  },
  {
   "cell_type": "code",
   "execution_count": null,
   "metadata": {
    "collapsed": true
   },
   "outputs": [],
   "source": []
  }
 ],
 "metadata": {
  "kernelspec": {
   "display_name": "Python [Root]",
   "language": "python",
   "name": "Python [Root]"
  },
  "language_info": {
   "codemirror_mode": {
    "name": "ipython",
    "version": 3
   },
   "file_extension": ".py",
   "mimetype": "text/x-python",
   "name": "python",
   "nbconvert_exporter": "python",
   "pygments_lexer": "ipython3",
   "version": "3.5.2"
  }
 },
 "nbformat": 4,
 "nbformat_minor": 0
}
